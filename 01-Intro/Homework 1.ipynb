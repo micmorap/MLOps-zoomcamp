{
 "cells": [
  {
   "cell_type": "markdown",
   "id": "f1ca778d",
   "metadata": {},
   "source": [
    "### HOMEWORK 1 - MLOPS ZOOMCAMP\n",
    "####  Made by: Michael Andrés Mora P.\n",
    "####  May 19th - 2024\n"
   ]
  },
  {
   "cell_type": "markdown",
   "id": "c1dc60a6",
   "metadata": {},
   "source": [
    "#### Q1. Read the data for January. How many columns are there?"
   ]
  },
  {
   "cell_type": "code",
   "execution_count": 8,
   "id": "f17bc6eb",
   "metadata": {},
   "outputs": [
    {
     "name": "stdout",
     "output_type": "stream",
     "text": [
      "El número de columnas en el conjunto de datos de enero de 2023 es: 19\n"
     ]
    }
   ],
   "source": [
    "import pandas as pd\n",
    "\n",
    "# URL del archivo CSV de \"Yellow Taxi Trip Records\" para enero de 2023\n",
    "url_january = \"https://d37ci6vzurychx.cloudfront.net/trip-data/yellow_tripdata_2023-01.parquet\"\n",
    "#url_january = \"yellow_tripdata_2023-01.parquet\"\n",
    "\n",
    "# Leer el archivo CSV en un DataFrame de pandas\n",
    "df_january = pd.read_parquet(url_january)\n",
    "\n",
    "# Contar el número de columnas en el DataFrame\n",
    "num_columns = len(df_january.columns)\n",
    "\n",
    "# Imprimir el número de columnas\n",
    "print(f\"El número de columnas en el conjunto de datos de enero de 2023 es: {num_columns}\")"
   ]
  },
  {
   "cell_type": "markdown",
   "id": "bc00141e",
   "metadata": {},
   "source": [
    "#### Q2. What's the standard deviation of the trips duration in January?"
   ]
  },
  {
   "cell_type": "code",
   "execution_count": 9,
   "id": "396ceadc",
   "metadata": {},
   "outputs": [
    {
     "name": "stdout",
     "output_type": "stream",
     "text": [
      "La desviación estándar de la duración de los viajes en enero de 2023 es: 42.59 minutos\n"
     ]
    }
   ],
   "source": [
    "# Convertir las columnas 'tpep_pickup_datetime' y 'tpep_dropoff_datetime' a tipo datetime\n",
    "df_january['tpep_pickup_datetime'] = pd.to_datetime(df_january['tpep_pickup_datetime'])\n",
    "df_january['tpep_dropoff_datetime'] = pd.to_datetime(df_january['tpep_dropoff_datetime'])\n",
    "\n",
    "# Calcular la duración del viaje en minutos\n",
    "df_january['duration'] = (df_january['tpep_dropoff_datetime'] - df_january['tpep_pickup_datetime']).dt.total_seconds() / 60\n",
    "\n",
    "# Calcular la desviación estándar de la duración del viaje\n",
    "std_duration = df_january['duration'].std()\n",
    "\n",
    "# Imprimir la desviación estándar\n",
    "print(f\"La desviación estándar de la duración de los viajes en enero de 2023 es: {std_duration:.2f} minutos\")"
   ]
  },
  {
   "cell_type": "markdown",
   "id": "7173b3e9",
   "metadata": {},
   "source": [
    "#### Q3.What fraction of the records left after you dropped the outliers?"
   ]
  },
  {
   "cell_type": "code",
   "execution_count": 10,
   "id": "888a8780",
   "metadata": {},
   "outputs": [
    {
     "name": "stdout",
     "output_type": "stream",
     "text": [
      "La fracción de registros que quedan después de eliminar los valores atípicos es: 0.9812\n"
     ]
    }
   ],
   "source": [
    "# Filtrar los datos para mantener solo las duraciones entre 1 y 60 minutos (inclusive)\n",
    "df_filtered_jan = df_january[(df_january['duration'] >= 1) & (df_january['duration'] <= 60)]\n",
    "\n",
    "# Calcular la fracción de registros que quedan\n",
    "fraction_left = len(df_filtered_jan) / len(df_january)\n",
    "\n",
    "# Imprimir la fracción de registros que quedan\n",
    "print(f\"La fracción de registros que quedan después de eliminar los valores atípicos es: {fraction_left:.4f}\")"
   ]
  },
  {
   "cell_type": "markdown",
   "id": "fb744077",
   "metadata": {},
   "source": [
    "#### Q4. What's the dimensionality of this matrix (number of columns)?"
   ]
  },
  {
   "cell_type": "code",
   "execution_count": 11,
   "id": "591ebb6d",
   "metadata": {},
   "outputs": [
    {
     "name": "stderr",
     "output_type": "stream",
     "text": [
      "/home/mlops_zoomcamp/anaconda3/lib/python3.9/site-packages/scipy/__init__.py:146: UserWarning: A NumPy version >=1.16.5 and <1.23.0 is required for this version of SciPy (detected version 1.26.4\n",
      "  warnings.warn(f\"A NumPy version >={np_minversion} and <{np_maxversion}\"\n"
     ]
    },
    {
     "name": "stdout",
     "output_type": "stream",
     "text": [
      "La dimensionalidad de la matriz de características es: 515\n"
     ]
    }
   ],
   "source": [
    "import pandas as pd\n",
    "from sklearn.feature_extraction import DictVectorizer\n",
    "\n",
    "# Filtrar los datos para mantener solo las columnas 'PULocationID' y 'DOLocationID'\n",
    "df_locations = df_filtered_jan[['PULocationID', 'DOLocationID']].astype(str)\n",
    "\n",
    "# Convertir el DataFrame en una lista de diccionarios\n",
    "data_dict = df_locations.to_dict(orient='records')\n",
    "\n",
    "# Inicializar el DictVectorizer\n",
    "dv = DictVectorizer(sparse=True)\n",
    "\n",
    "# Ajustar el DictVectorizer a los datos y transformar los datos en una matriz de características\n",
    "X_train = dv.fit_transform(data_dict)\n",
    "\n",
    "# Obtener la dimensionalidad de la matriz de características (número de columnas)\n",
    "num_columns = X_train.shape[1]\n",
    "\n",
    "# Imprimir la dimensionalidad de la matriz\n",
    "print(f\"La dimensionalidad de la matriz de características es: {num_columns}\")\n"
   ]
  },
  {
   "cell_type": "markdown",
   "id": "d2e15c00",
   "metadata": {},
   "source": [
    "#### Q5. What's the RMSE on train?"
   ]
  },
  {
   "cell_type": "code",
   "execution_count": 12,
   "id": "805d56a0",
   "metadata": {},
   "outputs": [
    {
     "name": "stdout",
     "output_type": "stream",
     "text": [
      "El error cuadrático medio es: 7.649261027793305\n"
     ]
    }
   ],
   "source": [
    "from sklearn.linear_model import LinearRegression\n",
    "from sklearn.metrics import mean_squared_error\n",
    "\n",
    "\n",
    "# Variable objetivo\n",
    "y_train = df_filtered_jan['duration'].values\n",
    "\n",
    "# Inicializar el modelo de regresión lineal\n",
    "model = LinearRegression()\n",
    "\n",
    "# Entrenar el modelo\n",
    "model.fit(X_train, y_train)\n",
    "\n",
    "# Hacer predicciones en los datos de entrenamiento\n",
    "y_pred = model.predict(X_train)\n",
    "\n",
    "# Calcular el RMSE\n",
    "rmse = mean_squared_error(y_train, y_pred, squared=False)\n",
    "print(f\"El error cuadrático medio es: {rmse}\")\n"
   ]
  },
  {
   "cell_type": "markdown",
   "id": "e230b57f",
   "metadata": {},
   "source": [
    "#### Q6. Evaluating the model"
   ]
  },
  {
   "cell_type": "code",
   "execution_count": 13,
   "id": "418d876f",
   "metadata": {},
   "outputs": [],
   "source": [
    "# URL del archivo CSV de \"Yellow Taxi Trip Records\" para enero de 2023\n",
    "#url_february = \"yellow_tripdata_2023-02.parquet\"\n",
    "url_february = \"https://d37ci6vzurychx.cloudfront.net/trip-data/yellow_tripdata_2023-02.parquet\"\n",
    "\n",
    "# Leer el archivo CSV en un DataFrame de pandas\n",
    "df_february = pd.read_parquet(url_february)\n"
   ]
  },
  {
   "cell_type": "code",
   "execution_count": 14,
   "id": "587b6c28",
   "metadata": {},
   "outputs": [
    {
     "data": {
      "text/plain": [
       "19"
      ]
     },
     "execution_count": 14,
     "metadata": {},
     "output_type": "execute_result"
    }
   ],
   "source": [
    "len(df_february.columns)"
   ]
  },
  {
   "cell_type": "code",
   "execution_count": 17,
   "id": "b775c14d",
   "metadata": {},
   "outputs": [],
   "source": [
    "# Convertir las columnas 'tpep_pickup_datetime' y 'tpep_dropoff_datetime' a tipo datetime\n",
    "df_february['tpep_pickup_datetime'] = pd.to_datetime(df_february['tpep_pickup_datetime'])\n",
    "df_february['tpep_dropoff_datetime'] = pd.to_datetime(df_february['tpep_dropoff_datetime'])\n",
    "\n",
    "# Calcular la duración del viaje en minutos\n",
    "df_february['duration'] = (df_february['tpep_dropoff_datetime'] - df_february['tpep_pickup_datetime']).dt.total_seconds() / 60\n",
    "\n"
   ]
  },
  {
   "cell_type": "code",
   "execution_count": 18,
   "id": "e89a1b33",
   "metadata": {},
   "outputs": [],
   "source": [
    "# Filtrar los datos para mantener solo las duraciones entre 1 y 60 minutos (inclusive)\n",
    "df_filtered_feb = df_filtered_feb[(df_filtered_feb['duration'] >= 1) & (df_filtered_feb['duration'] <= 60)]\n"
   ]
  },
  {
   "cell_type": "code",
   "execution_count": 19,
   "id": "17bfc9ac",
   "metadata": {},
   "outputs": [
    {
     "name": "stdout",
     "output_type": "stream",
     "text": [
      "La dimensionalidad de la matriz de características es: 514\n"
     ]
    }
   ],
   "source": [
    "df_locations_feb = df_filtered_feb[['PULocationID', 'DOLocationID']].astype(str)\n",
    "\n",
    "# Convertir el DataFrame en una lista de diccionarios\n",
    "data_dict_feb = df_locations_feb.to_dict(orient='records')\n",
    "\n",
    "# Inicializar el DictVectorizer\n",
    "dv_feb = DictVectorizer(sparse=True)\n",
    "\n",
    "# Ajustar el DictVectorizer a los datos y transformar los datos en una matriz de características\n",
    "X_val = dv_feb.fit_transform(data_dict_feb)\n",
    "\n",
    "# Obtener la dimensionalidad de la matriz de características (número de columnas)\n",
    "num_columns = X_val.shape[1]\n",
    "\n",
    "# Imprimir la dimensionalidad de la matriz\n",
    "print(f\"La dimensionalidad de la matriz de características es: {num_columns}\")\n"
   ]
  },
  {
   "cell_type": "code",
   "execution_count": 21,
   "id": "b635554f",
   "metadata": {},
   "outputs": [],
   "source": [
    "target = 'duration'\n",
    "y_val = df_february[target].values"
   ]
  },
  {
   "cell_type": "code",
   "execution_count": 22,
   "id": "0b9e469f",
   "metadata": {},
   "outputs": [
    {
     "ename": "ValueError",
     "evalue": "X has 514 features, but LinearRegression is expecting 515 features as input.",
     "output_type": "error",
     "traceback": [
      "\u001b[0;31m---------------------------------------------------------------------------\u001b[0m",
      "\u001b[0;31mValueError\u001b[0m                                Traceback (most recent call last)",
      "Input \u001b[0;32mIn [22]\u001b[0m, in \u001b[0;36m<cell line: 4>\u001b[0;34m()\u001b[0m\n\u001b[1;32m      1\u001b[0m lr \u001b[38;5;241m=\u001b[39m LinearRegression()\n\u001b[1;32m      2\u001b[0m lr\u001b[38;5;241m.\u001b[39mfit(X_train, y_train)\n\u001b[0;32m----> 4\u001b[0m y_pred \u001b[38;5;241m=\u001b[39m \u001b[43mlr\u001b[49m\u001b[38;5;241;43m.\u001b[39;49m\u001b[43mpredict\u001b[49m\u001b[43m(\u001b[49m\u001b[43mX_val\u001b[49m\u001b[43m)\u001b[49m\n\u001b[1;32m      6\u001b[0m rmse_feb \u001b[38;5;241m=\u001b[39m mean_squared_error(y_val, y_pred, squared\u001b[38;5;241m=\u001b[39m\u001b[38;5;28;01mFalse\u001b[39;00m)\n\u001b[1;32m      7\u001b[0m \u001b[38;5;28mprint\u001b[39m(\u001b[38;5;124mf\u001b[39m\u001b[38;5;124m\"\u001b[39m\u001b[38;5;124mEl error cuadrático medio es: \u001b[39m\u001b[38;5;132;01m{\u001b[39;00mrmse_feb\u001b[38;5;132;01m}\u001b[39;00m\u001b[38;5;124m\"\u001b[39m)\n",
      "File \u001b[0;32m~/anaconda3/lib/python3.9/site-packages/sklearn/linear_model/_base.py:362\u001b[0m, in \u001b[0;36mLinearModel.predict\u001b[0;34m(self, X)\u001b[0m\n\u001b[1;32m    348\u001b[0m \u001b[38;5;28;01mdef\u001b[39;00m \u001b[38;5;21mpredict\u001b[39m(\u001b[38;5;28mself\u001b[39m, X):\n\u001b[1;32m    349\u001b[0m     \u001b[38;5;124;03m\"\"\"\u001b[39;00m\n\u001b[1;32m    350\u001b[0m \u001b[38;5;124;03m    Predict using the linear model.\u001b[39;00m\n\u001b[1;32m    351\u001b[0m \n\u001b[0;32m   (...)\u001b[0m\n\u001b[1;32m    360\u001b[0m \u001b[38;5;124;03m        Returns predicted values.\u001b[39;00m\n\u001b[1;32m    361\u001b[0m \u001b[38;5;124;03m    \"\"\"\u001b[39;00m\n\u001b[0;32m--> 362\u001b[0m     \u001b[38;5;28;01mreturn\u001b[39;00m \u001b[38;5;28;43mself\u001b[39;49m\u001b[38;5;241;43m.\u001b[39;49m\u001b[43m_decision_function\u001b[49m\u001b[43m(\u001b[49m\u001b[43mX\u001b[49m\u001b[43m)\u001b[49m\n",
      "File \u001b[0;32m~/anaconda3/lib/python3.9/site-packages/sklearn/linear_model/_base.py:345\u001b[0m, in \u001b[0;36mLinearModel._decision_function\u001b[0;34m(self, X)\u001b[0m\n\u001b[1;32m    342\u001b[0m \u001b[38;5;28;01mdef\u001b[39;00m \u001b[38;5;21m_decision_function\u001b[39m(\u001b[38;5;28mself\u001b[39m, X):\n\u001b[1;32m    343\u001b[0m     check_is_fitted(\u001b[38;5;28mself\u001b[39m)\n\u001b[0;32m--> 345\u001b[0m     X \u001b[38;5;241m=\u001b[39m \u001b[38;5;28;43mself\u001b[39;49m\u001b[38;5;241;43m.\u001b[39;49m\u001b[43m_validate_data\u001b[49m\u001b[43m(\u001b[49m\u001b[43mX\u001b[49m\u001b[43m,\u001b[49m\u001b[43m \u001b[49m\u001b[43maccept_sparse\u001b[49m\u001b[38;5;241;43m=\u001b[39;49m\u001b[43m[\u001b[49m\u001b[38;5;124;43m\"\u001b[39;49m\u001b[38;5;124;43mcsr\u001b[39;49m\u001b[38;5;124;43m\"\u001b[39;49m\u001b[43m,\u001b[49m\u001b[43m \u001b[49m\u001b[38;5;124;43m\"\u001b[39;49m\u001b[38;5;124;43mcsc\u001b[39;49m\u001b[38;5;124;43m\"\u001b[39;49m\u001b[43m,\u001b[49m\u001b[43m \u001b[49m\u001b[38;5;124;43m\"\u001b[39;49m\u001b[38;5;124;43mcoo\u001b[39;49m\u001b[38;5;124;43m\"\u001b[39;49m\u001b[43m]\u001b[49m\u001b[43m,\u001b[49m\u001b[43m \u001b[49m\u001b[43mreset\u001b[49m\u001b[38;5;241;43m=\u001b[39;49m\u001b[38;5;28;43;01mFalse\u001b[39;49;00m\u001b[43m)\u001b[49m\n\u001b[1;32m    346\u001b[0m     \u001b[38;5;28;01mreturn\u001b[39;00m safe_sparse_dot(X, \u001b[38;5;28mself\u001b[39m\u001b[38;5;241m.\u001b[39mcoef_\u001b[38;5;241m.\u001b[39mT, dense_output\u001b[38;5;241m=\u001b[39m\u001b[38;5;28;01mTrue\u001b[39;00m) \u001b[38;5;241m+\u001b[39m \u001b[38;5;28mself\u001b[39m\u001b[38;5;241m.\u001b[39mintercept_\n",
      "File \u001b[0;32m~/anaconda3/lib/python3.9/site-packages/sklearn/base.py:585\u001b[0m, in \u001b[0;36mBaseEstimator._validate_data\u001b[0;34m(self, X, y, reset, validate_separately, **check_params)\u001b[0m\n\u001b[1;32m    582\u001b[0m     out \u001b[38;5;241m=\u001b[39m X, y\n\u001b[1;32m    584\u001b[0m \u001b[38;5;28;01mif\u001b[39;00m \u001b[38;5;129;01mnot\u001b[39;00m no_val_X \u001b[38;5;129;01mand\u001b[39;00m check_params\u001b[38;5;241m.\u001b[39mget(\u001b[38;5;124m\"\u001b[39m\u001b[38;5;124mensure_2d\u001b[39m\u001b[38;5;124m\"\u001b[39m, \u001b[38;5;28;01mTrue\u001b[39;00m):\n\u001b[0;32m--> 585\u001b[0m     \u001b[38;5;28;43mself\u001b[39;49m\u001b[38;5;241;43m.\u001b[39;49m\u001b[43m_check_n_features\u001b[49m\u001b[43m(\u001b[49m\u001b[43mX\u001b[49m\u001b[43m,\u001b[49m\u001b[43m \u001b[49m\u001b[43mreset\u001b[49m\u001b[38;5;241;43m=\u001b[39;49m\u001b[43mreset\u001b[49m\u001b[43m)\u001b[49m\n\u001b[1;32m    587\u001b[0m \u001b[38;5;28;01mreturn\u001b[39;00m out\n",
      "File \u001b[0;32m~/anaconda3/lib/python3.9/site-packages/sklearn/base.py:400\u001b[0m, in \u001b[0;36mBaseEstimator._check_n_features\u001b[0;34m(self, X, reset)\u001b[0m\n\u001b[1;32m    397\u001b[0m     \u001b[38;5;28;01mreturn\u001b[39;00m\n\u001b[1;32m    399\u001b[0m \u001b[38;5;28;01mif\u001b[39;00m n_features \u001b[38;5;241m!=\u001b[39m \u001b[38;5;28mself\u001b[39m\u001b[38;5;241m.\u001b[39mn_features_in_:\n\u001b[0;32m--> 400\u001b[0m     \u001b[38;5;28;01mraise\u001b[39;00m \u001b[38;5;167;01mValueError\u001b[39;00m(\n\u001b[1;32m    401\u001b[0m         \u001b[38;5;124mf\u001b[39m\u001b[38;5;124m\"\u001b[39m\u001b[38;5;124mX has \u001b[39m\u001b[38;5;132;01m{\u001b[39;00mn_features\u001b[38;5;132;01m}\u001b[39;00m\u001b[38;5;124m features, but \u001b[39m\u001b[38;5;132;01m{\u001b[39;00m\u001b[38;5;28mself\u001b[39m\u001b[38;5;241m.\u001b[39m\u001b[38;5;18m__class__\u001b[39m\u001b[38;5;241m.\u001b[39m\u001b[38;5;18m__name__\u001b[39m\u001b[38;5;132;01m}\u001b[39;00m\u001b[38;5;124m \u001b[39m\u001b[38;5;124m\"\u001b[39m\n\u001b[1;32m    402\u001b[0m         \u001b[38;5;124mf\u001b[39m\u001b[38;5;124m\"\u001b[39m\u001b[38;5;124mis expecting \u001b[39m\u001b[38;5;132;01m{\u001b[39;00m\u001b[38;5;28mself\u001b[39m\u001b[38;5;241m.\u001b[39mn_features_in_\u001b[38;5;132;01m}\u001b[39;00m\u001b[38;5;124m features as input.\u001b[39m\u001b[38;5;124m\"\u001b[39m\n\u001b[1;32m    403\u001b[0m     )\n",
      "\u001b[0;31mValueError\u001b[0m: X has 514 features, but LinearRegression is expecting 515 features as input."
     ]
    }
   ],
   "source": [
    "lr = LinearRegression()\n",
    "lr.fit(X_train, y_train)\n",
    "\n",
    "y_pred = lr.predict(X_val)\n",
    "\n",
    "rmse_feb = mean_squared_error(y_val, y_pred, squared=False)\n",
    "print(f\"El error cuadrático medio es: {rmse_feb}\")\n"
   ]
  },
  {
   "cell_type": "code",
   "execution_count": null,
   "id": "0f94c1b7",
   "metadata": {},
   "outputs": [],
   "source": []
  }
 ],
 "metadata": {
  "kernelspec": {
   "display_name": "Python 3 (ipykernel)",
   "language": "python",
   "name": "python3"
  },
  "language_info": {
   "codemirror_mode": {
    "name": "ipython",
    "version": 3
   },
   "file_extension": ".py",
   "mimetype": "text/x-python",
   "name": "python",
   "nbconvert_exporter": "python",
   "pygments_lexer": "ipython3",
   "version": "3.9.12"
  }
 },
 "nbformat": 4,
 "nbformat_minor": 5
}
