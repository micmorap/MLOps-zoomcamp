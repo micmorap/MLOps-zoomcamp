{
 "cells": [
  {
   "cell_type": "markdown",
   "id": "f1ca778d",
   "metadata": {},
   "source": [
    "### HOMEWORK 2 - MLOPS ZOOMCAMP\n",
    "####  Made by: Michael Andrés Mora P.\n",
    "####  May 27th - 2024"
   ]
  },
  {
   "cell_type": "markdown",
   "id": "c1dc60a6",
   "metadata": {},
   "source": [
    "#### Q1. Install MLflow - What's the version that you have?"
   ]
  },
  {
   "cell_type": "code",
   "execution_count": 5,
   "id": "f17bc6eb",
   "metadata": {},
   "outputs": [
    {
     "name": "stderr",
     "output_type": "stream",
     "text": [
      "2024/05/26 17:40:15 INFO mlflow.tracking.fluent: Experiment with name 'random-forest-hyperopt' does not exist. Creating a new experiment.\n"
     ]
    }
   ],
   "source": [
    "import warnings\n",
    "warnings.filterwarnings(\"ignore\")\n",
    "import mlflow\n",
    "import pandas as pd\n",
    "import preprocess_data as prep\n",
    "import os\n",
    "import pickle\n",
    "import click\n",
    "from mlflow.tracking import MlflowClient\n",
    "from sklearn.feature_extraction import DictVectorizer\n",
    "import hpo"
   ]
  },
  {
   "cell_type": "code",
   "execution_count": 6,
   "id": "305986bd",
   "metadata": {},
   "outputs": [
    {
     "data": {
      "text/plain": [
       "'/home/mlops_zoomcamp/mlops-zoomcamp/02-experiment-tracking'"
      ]
     },
     "execution_count": 6,
     "metadata": {},
     "output_type": "execute_result"
    }
   ],
   "source": [
    "os.getcwd()"
   ]
  },
  {
   "cell_type": "code",
   "execution_count": 7,
   "id": "0799319b",
   "metadata": {},
   "outputs": [
    {
     "name": "stdout",
     "output_type": "stream",
     "text": [
      "2.13.0\n"
     ]
    }
   ],
   "source": [
    "print(mlflow.__version__)\n"
   ]
  },
  {
   "cell_type": "markdown",
   "id": "fb744077",
   "metadata": {},
   "source": [
    "#### Q4. Launch the tracking server locally"
   ]
  },
  {
   "cell_type": "code",
   "execution_count": null,
   "id": "47b2c750",
   "metadata": {},
   "outputs": [],
   "source": [
    "#mlflow.set_tracking_uri(\"http://127.0.0.1:5000\")"
   ]
  },
  {
   "cell_type": "code",
   "execution_count": null,
   "id": "29d6f72c",
   "metadata": {},
   "outputs": [],
   "source": [
    "#!mlflow server --backend-store-uri sqlite:///mlflow.db --default-artifact-root artifacts"
   ]
  },
  {
   "cell_type": "markdown",
   "id": "bc00141e",
   "metadata": {},
   "source": [
    "#### Q2. Download and preprocess the data"
   ]
  },
  {
   "cell_type": "code",
   "execution_count": 1,
   "id": "396ceadc",
   "metadata": {},
   "outputs": [],
   "source": [
    "TAXI_DATA_FOLDER = \"data\""
   ]
  },
  {
   "cell_type": "code",
   "execution_count": 2,
   "id": "caf3f40a",
   "metadata": {},
   "outputs": [
    {
     "name": "stdout",
     "output_type": "stream",
     "text": [
      "/home/mlops_zoomcamp/anaconda3/lib/python3.9/site-packages/pandas/core/computation/expressions.py:21: UserWarning: Pandas requires version '2.8.4' or newer of 'numexpr' (version '2.8.1' currently installed).\r\n",
      "  from pandas.core.computation.check import NUMEXPR_INSTALLED\r\n",
      "/home/mlops_zoomcamp/anaconda3/lib/python3.9/site-packages/pandas/core/arrays/masked.py:60: UserWarning: Pandas requires version '1.3.6' or newer of 'bottleneck' (version '1.3.4' currently installed).\r\n",
      "  from pandas.core import (\r\n"
     ]
    }
   ],
   "source": [
    "!python preprocess_data.py --raw_data_path {TAXI_DATA_FOLDER} --dest_path ./output"
   ]
  },
  {
   "cell_type": "markdown",
   "id": "7173b3e9",
   "metadata": {},
   "source": [
    "#### Q3. Train a model with autolog"
   ]
  },
  {
   "cell_type": "code",
   "execution_count": 3,
   "id": "888a8780",
   "metadata": {},
   "outputs": [
    {
     "name": "stdout",
     "output_type": "stream",
     "text": [
      "/home/mlops_zoomcamp/anaconda3/lib/python3.9/site-packages/pandas/core/computation/expressions.py:21: UserWarning: Pandas requires version '2.8.4' or newer of 'numexpr' (version '2.8.1' currently installed).\n",
      "  from pandas.core.computation.check import NUMEXPR_INSTALLED\n",
      "/home/mlops_zoomcamp/anaconda3/lib/python3.9/site-packages/pandas/core/arrays/masked.py:60: UserWarning: Pandas requires version '1.3.6' or newer of 'bottleneck' (version '1.3.4' currently installed).\n",
      "  from pandas.core import (\n",
      "WARNING:root:Malformed experiment '4'. Detailed error Yaml file '/home/mlops_zoomcamp/mlops-zoomcamp/02-experiment-tracking/mlruns/4/meta.yaml' does not exist.\n",
      "Traceback (most recent call last):\n",
      "  File \"/home/mlops_zoomcamp/anaconda3/lib/python3.9/site-packages/mlflow/store/tracking/file_store.py\", line 315, in search_experiments\n",
      "    exp = self._get_experiment(exp_id, view_type)\n",
      "  File \"/home/mlops_zoomcamp/anaconda3/lib/python3.9/site-packages/mlflow/store/tracking/file_store.py\", line 408, in _get_experiment\n",
      "    meta = FileStore._read_yaml(experiment_dir, FileStore.META_DATA_FILE_NAME)\n",
      "  File \"/home/mlops_zoomcamp/anaconda3/lib/python3.9/site-packages/mlflow/store/tracking/file_store.py\", line 1336, in _read_yaml\n",
      "    return _read_helper(root, file_name, attempts_remaining=retries)\n",
      "  File \"/home/mlops_zoomcamp/anaconda3/lib/python3.9/site-packages/mlflow/store/tracking/file_store.py\", line 1329, in _read_helper\n",
      "    result = read_yaml(root, file_name)\n",
      "  File \"/home/mlops_zoomcamp/anaconda3/lib/python3.9/site-packages/mlflow/utils/file_utils.py\", line 309, in read_yaml\n",
      "    raise MissingConfigException(f\"Yaml file '{file_path}' does not exist.\")\n",
      "mlflow.exceptions.MissingConfigException: Yaml file '/home/mlops_zoomcamp/mlops-zoomcamp/02-experiment-tracking/mlruns/4/meta.yaml' does not exist.\n",
      "WARNING:root:Malformed experiment '5'. Detailed error Yaml file '/home/mlops_zoomcamp/mlops-zoomcamp/02-experiment-tracking/mlruns/5/meta.yaml' does not exist.\n",
      "Traceback (most recent call last):\n",
      "  File \"/home/mlops_zoomcamp/anaconda3/lib/python3.9/site-packages/mlflow/store/tracking/file_store.py\", line 315, in search_experiments\n",
      "    exp = self._get_experiment(exp_id, view_type)\n",
      "  File \"/home/mlops_zoomcamp/anaconda3/lib/python3.9/site-packages/mlflow/store/tracking/file_store.py\", line 408, in _get_experiment\n",
      "    meta = FileStore._read_yaml(experiment_dir, FileStore.META_DATA_FILE_NAME)\n",
      "  File \"/home/mlops_zoomcamp/anaconda3/lib/python3.9/site-packages/mlflow/store/tracking/file_store.py\", line 1336, in _read_yaml\n",
      "    return _read_helper(root, file_name, attempts_remaining=retries)\n",
      "  File \"/home/mlops_zoomcamp/anaconda3/lib/python3.9/site-packages/mlflow/store/tracking/file_store.py\", line 1329, in _read_helper\n",
      "    result = read_yaml(root, file_name)\n",
      "  File \"/home/mlops_zoomcamp/anaconda3/lib/python3.9/site-packages/mlflow/utils/file_utils.py\", line 309, in read_yaml\n",
      "    raise MissingConfigException(f\"Yaml file '{file_path}' does not exist.\")\n",
      "mlflow.exceptions.MissingConfigException: Yaml file '/home/mlops_zoomcamp/mlops-zoomcamp/02-experiment-tracking/mlruns/5/meta.yaml' does not exist.\n",
      "2024/05/26 17:29:37 WARNING mlflow.sklearn: Failed to log training dataset information to MLflow Tracking. Reason: 'numpy.ndarray' object has no attribute 'toarray'\n",
      "2024/05/26 17:29:49 WARNING mlflow.utils.autologging_utils: MLflow autologging encountered a warning: \"/home/mlops_zoomcamp/anaconda3/lib/python3.9/site-packages/_distutils_hack/__init__.py:30: UserWarning: Setuptools is replacing distutils.\"\n"
     ]
    }
   ],
   "source": [
    "!python train.py --data_path ./output"
   ]
  },
  {
   "cell_type": "markdown",
   "id": "d2e15c00",
   "metadata": {},
   "source": [
    "#### Q5. Tune model hyperparameters"
   ]
  },
  {
   "cell_type": "code",
   "execution_count": 9,
   "id": "805d56a0",
   "metadata": {},
   "outputs": [
    {
     "name": "stdout",
     "output_type": "stream",
     "text": [
      "/home/mlops_zoomcamp/anaconda3/lib/python3.9/site-packages/pandas/core/computation/expressions.py:21: UserWarning: Pandas requires version '2.8.4' or newer of 'numexpr' (version '2.8.1' currently installed).\n",
      "  from pandas.core.computation.check import NUMEXPR_INSTALLED\n",
      "/home/mlops_zoomcamp/anaconda3/lib/python3.9/site-packages/pandas/core/arrays/masked.py:60: UserWarning: Pandas requires version '1.3.6' or newer of 'bottleneck' (version '1.3.4' currently installed).\n",
      "  from pandas.core import (\n",
      "100%|██████████| 15/15 [00:53<00:00,  3.56s/trial, best loss: 5.335419588556921]\n"
     ]
    }
   ],
   "source": [
    "!python hpo.py"
   ]
  },
  {
   "cell_type": "markdown",
   "id": "e230b57f",
   "metadata": {},
   "source": [
    "#### Q6. Promote the best model to the model registry"
   ]
  },
  {
   "cell_type": "code",
   "execution_count": 10,
   "id": "418d876f",
   "metadata": {},
   "outputs": [
    {
     "name": "stdout",
     "output_type": "stream",
     "text": [
      "/home/mlops_zoomcamp/anaconda3/lib/python3.9/site-packages/pandas/core/computation/expressions.py:21: UserWarning: Pandas requires version '2.8.4' or newer of 'numexpr' (version '2.8.1' currently installed).\n",
      "  from pandas.core.computation.check import NUMEXPR_INSTALLED\n",
      "/home/mlops_zoomcamp/anaconda3/lib/python3.9/site-packages/pandas/core/arrays/masked.py:60: UserWarning: Pandas requires version '1.3.6' or newer of 'bottleneck' (version '1.3.4' currently installed).\n",
      "  from pandas.core import (\n",
      "2024/05/26 17:58:38 INFO mlflow.tracking.fluent: Experiment with name 'random-forest-best-models' does not exist. Creating a new experiment.\n",
      "2024/05/26 17:58:39 WARNING mlflow.sklearn: Failed to log training dataset information to MLflow Tracking. Reason: 'numpy.ndarray' object has no attribute 'toarray'\n",
      "2024/05/26 17:58:44 WARNING mlflow.utils.autologging_utils: MLflow autologging encountered a warning: \"/home/mlops_zoomcamp/anaconda3/lib/python3.9/site-packages/_distutils_hack/__init__.py:30: UserWarning: Setuptools is replacing distutils.\"\n",
      "2024/05/26 17:58:48 WARNING mlflow.sklearn: Failed to log training dataset information to MLflow Tracking. Reason: 'numpy.ndarray' object has no attribute 'toarray'\n",
      "2024/05/26 17:59:01 WARNING mlflow.sklearn: Failed to log training dataset information to MLflow Tracking. Reason: 'numpy.ndarray' object has no attribute 'toarray'\n",
      "2024/05/26 17:59:10 WARNING mlflow.sklearn: Failed to log training dataset information to MLflow Tracking. Reason: 'numpy.ndarray' object has no attribute 'toarray'\n",
      "2024/05/26 17:59:20 WARNING mlflow.sklearn: Failed to log training dataset information to MLflow Tracking. Reason: 'numpy.ndarray' object has no attribute 'toarray'\n",
      "Traceback (most recent call last):\n",
      "  File \"/home/mlops_zoomcamp/mlops-zoomcamp/02-experiment-tracking/register_model.py\", line 84, in <module>\n",
      "    run_register_model()\n",
      "  File \"/home/mlops_zoomcamp/anaconda3/lib/python3.9/site-packages/click/core.py\", line 1128, in __call__\n",
      "    return self.main(*args, **kwargs)\n",
      "  File \"/home/mlops_zoomcamp/anaconda3/lib/python3.9/site-packages/click/core.py\", line 1053, in main\n",
      "    rv = self.invoke(ctx)\n",
      "  File \"/home/mlops_zoomcamp/anaconda3/lib/python3.9/site-packages/click/core.py\", line 1395, in invoke\n",
      "    return ctx.invoke(self.callback, **ctx.params)\n",
      "  File \"/home/mlops_zoomcamp/anaconda3/lib/python3.9/site-packages/click/core.py\", line 754, in invoke\n",
      "    return __callback(*args, **kwargs)\n",
      "  File \"/home/mlops_zoomcamp/mlops-zoomcamp/02-experiment-tracking/register_model.py\", line 73, in run_register_model\n",
      "    best_run = client.search_runs(order_by=[\"metrics.rmse DESC\"])[0]\n",
      "TypeError: search_runs() missing 1 required positional argument: 'experiment_ids'\n"
     ]
    }
   ],
   "source": [
    "!python register_model.py"
   ]
  },
  {
   "cell_type": "code",
   "execution_count": null,
   "id": "587b6c28",
   "metadata": {},
   "outputs": [],
   "source": []
  },
  {
   "cell_type": "code",
   "execution_count": null,
   "id": "b775c14d",
   "metadata": {},
   "outputs": [],
   "source": []
  },
  {
   "cell_type": "code",
   "execution_count": null,
   "id": "e89a1b33",
   "metadata": {},
   "outputs": [],
   "source": []
  }
 ],
 "metadata": {
  "kernelspec": {
   "display_name": "Python 3 (ipykernel)",
   "language": "python",
   "name": "python3"
  },
  "language_info": {
   "codemirror_mode": {
    "name": "ipython",
    "version": 3
   },
   "file_extension": ".py",
   "mimetype": "text/x-python",
   "name": "python",
   "nbconvert_exporter": "python",
   "pygments_lexer": "ipython3",
   "version": "3.9.12"
  }
 },
 "nbformat": 4,
 "nbformat_minor": 5
}
